{
 "cells": [
  {
   "cell_type": "markdown",
   "metadata": {},
   "source": [
    "# 파이썬 텍스트마이닝 완벽 가이드 실습"
   ]
  },
  {
   "cell_type": "markdown",
   "metadata": {},
   "source": [
    "## 2장. 텍스트 전처리"
   ]
  },
  {
   "cell_type": "markdown",
   "metadata": {},
   "source": [
    "### 2.2. 토큰화"
   ]
  },
  {
   "cell_type": "code",
   "execution_count": 32,
   "metadata": {},
   "outputs": [],
   "source": [
    "import nltk\n",
    "# nltk.download()"
   ]
  },
  {
   "cell_type": "code",
   "execution_count": 33,
   "metadata": {},
   "outputs": [],
   "source": [
    "para = \"hello everyone. It's good to see you. Let's start our text mining class!\""
   ]
  },
  {
   "cell_type": "code",
   "execution_count": 34,
   "metadata": {},
   "outputs": [],
   "source": [
    "# 문장 단위 토큰화\n",
    "from nltk.tokenize import sent_tokenize\n",
    "\n",
    "# 단어 단위 토큰화\n",
    "# 문장 부호도(. , ! 등) 별도의 단어로 토큰화. 's 로 토큰화.\n",
    "from nltk.tokenize import word_tokenize\n",
    "\n",
    "# 단어 단위 토큰화\n",
    "# 문장 부호도(. , ! 등) 별도의 단어로 토큰화. ' 로 토큰화.\n",
    "from nltk.tokenize import WordPunctTokenizer\n",
    "\n",
    "# 정규표현식을 기반으로 토큰화\n",
    "from nltk.tokenize import RegexpTokenizer"
   ]
  },
  {
   "cell_type": "code",
   "execution_count": 35,
   "metadata": {},
   "outputs": [],
   "source": [
    "# 단어의 단위로 \\w를 이용하겠다. (\\w 는 문자, 숫자, _를 포함)\n",
    "tokenizer = RegexpTokenizer(\"[\\w]+\")"
   ]
  },
  {
   "cell_type": "code",
   "execution_count": 36,
   "metadata": {},
   "outputs": [
    {
     "name": "stdout",
     "output_type": "stream",
     "text": [
      "['hello', 'everyone', 'it', 's', 'good', 'to', 'see', 'you', 'let', 's', 'start', 'our', 'text', 'mining', 'class']\n"
     ]
    }
   ],
   "source": [
    "tokens = tokenizer.tokenize(para.lower())\n",
    "print(tokens)"
   ]
  },
  {
   "cell_type": "markdown",
   "metadata": {},
   "source": [
    "#### 2.2.4. 노이즈와 불용어 제거"
   ]
  },
  {
   "cell_type": "code",
   "execution_count": 37,
   "metadata": {},
   "outputs": [],
   "source": [
    "# nltk의 불용어 사전 기반으로 제거\n",
    "from nltk.corpus import stopwords\n",
    "\n",
    "# 중복되지 않도록 set으로 변경 후 사용\n",
    "english_stops = set(stopwords.words('english'))"
   ]
  },
  {
   "cell_type": "code",
   "execution_count": 38,
   "metadata": {},
   "outputs": [
    {
     "name": "stdout",
     "output_type": "stream",
     "text": [
      "{'after', \"needn't\", 'does', 'through', \"hasn't\", 'won', 'until', \"that'll\", \"shouldn't\", 'so', 'both', 'll', \"you'll\", 'me', 'needn', \"aren't\", 've', 'doesn', \"mustn't\", 'or', 'but', 'do', 'she', 'hadn', 'your', 'now', 'than', 'isn', 'too', 'hasn', 'any', 'you', 'only', 'these', 'what', \"isn't\", 'have', 'ours', 'are', 'why', 'at', 'haven', 'here', 'them', 'up', 'ma', 'hers', 'off', 'myself', 'just', 'few', 'as', 'were', 'we', 'will', 'above', 'it', \"you've\", \"won't\", 'each', 'how', 'an', 'had', \"hadn't\", 'shouldn', 'wasn', 'am', 'over', 're', \"didn't\", 'd', 'during', 'between', 'from', 'into', 'this', 'his', 'by', 'having', 'once', 'itself', \"should've\", 'those', 'while', 'herself', 'under', 'was', 'yourselves', 'm', 'didn', 'before', \"don't\", 'he', 'that', \"weren't\", 'whom', 'weren', \"haven't\", 'against', 'no', 'again', 'further', 'most', 'be', 'with', 'for', 'wouldn', 'more', 'our', 'mightn', \"you'd\", 'him', 'such', 'being', 'my', 'themselves', 'about', 'her', 'yours', \"it's\", 't', 'out', \"she's\", 'the', 'ourselves', 'in', 'not', 'aren', 'o', 'their', 'y', \"couldn't\", 'all', 'can', 'doing', 'which', 'other', \"shan't\", 'of', 'couldn', \"wouldn't\", 'there', 'very', 'theirs', 'if', 'himself', 'then', 'ain', \"mightn't\", 'on', 'i', 'because', 's', 'don', \"you're\", 'where', \"doesn't\", 'own', 'did', 'a', 'mustn', 'yourself', 'is', 'been', 'shan', 'should', 'its', 'they', 'when', 'below', 'who', 'nor', 'same', 'down', \"wasn't\", 'some', 'to', 'and', 'has'}\n"
     ]
    }
   ],
   "source": [
    "# nltk의 불용어 사전 확인\n",
    "print(english_stops)"
   ]
  },
  {
   "cell_type": "code",
   "execution_count": 39,
   "metadata": {},
   "outputs": [],
   "source": [
    "# stopwords 제거해서 list로 다시 저장\n",
    "result = [word for word in tokens if word not in english_stops]"
   ]
  },
  {
   "cell_type": "code",
   "execution_count": 40,
   "metadata": {},
   "outputs": [
    {
     "name": "stdout",
     "output_type": "stream",
     "text": [
      "['hello', 'everyone', 'good', 'see', 'let', 'start', 'text', 'mining', 'class']\n"
     ]
    }
   ],
   "source": [
    "print(result)"
   ]
  },
  {
   "cell_type": "markdown",
   "metadata": {},
   "source": [
    "### 2.3. 정규화"
   ]
  },
  {
   "cell_type": "code",
   "execution_count": 41,
   "metadata": {},
   "outputs": [],
   "source": [
    "# 어간 추출\n",
    "# 일반적으로 표제어 추출에 비해 속도가 빠르지만, 추출 결과가 존재하지 않는 단어일 수 있음.\n",
    "from nltk.stem import PorterStemmer\n",
    "stemmer = PorterStemmer()"
   ]
  },
  {
   "cell_type": "code",
   "execution_count": 42,
   "metadata": {},
   "outputs": [
    {
     "name": "stdout",
     "output_type": "stream",
     "text": [
      "hello\n",
      "everyon\n",
      "good\n",
      "see\n",
      "let\n",
      "start\n",
      "text\n",
      "mine\n",
      "class\n"
     ]
    }
   ],
   "source": [
    "for token in result:\n",
    "    print(stemmer.stem(token))"
   ]
  },
  {
   "cell_type": "code",
   "execution_count": 43,
   "metadata": {},
   "outputs": [],
   "source": [
    "# 표제어 추출\n",
    "# 사전에 표기된 단어 기본형으로 추출.\n",
    "from nltk.stem import WordNetLemmatizer\n",
    "lemmatizer = WordNetLemmatizer()"
   ]
  },
  {
   "cell_type": "code",
   "execution_count": 44,
   "metadata": {},
   "outputs": [
    {
     "name": "stdout",
     "output_type": "stream",
     "text": [
      "hello\n",
      "everyone\n",
      "good\n",
      "see\n",
      "let\n",
      "start\n",
      "text\n",
      "mining\n",
      "class\n"
     ]
    }
   ],
   "source": [
    "for token in result:\n",
    "    print(lemmatizer.lemmatize(token))"
   ]
  },
  {
   "cell_type": "markdown",
   "metadata": {},
   "source": [
    "### 2.4. 품사 태깅"
   ]
  },
  {
   "cell_type": "code",
   "execution_count": 45,
   "metadata": {},
   "outputs": [
    {
     "name": "stdout",
     "output_type": "stream",
     "text": [
      "[('hello', 'NN'), ('everyone', 'NN'), ('it', 'PRP'), ('s', 'VBD'), ('good', 'JJ'), ('to', 'TO'), ('see', 'VB'), ('you', 'PRP'), ('let', 'VB'), ('s', 'VB'), ('start', 'VB'), ('our', 'PRP$'), ('text', 'NN'), ('mining', 'NN'), ('class', 'NN')]\n"
     ]
    }
   ],
   "source": [
    "# nltk를 이용한 품사 태깅.\n",
    "print(nltk.pos_tag(tokens))"
   ]
  },
  {
   "cell_type": "code",
   "execution_count": 53,
   "metadata": {},
   "outputs": [
    {
     "name": "stdout",
     "output_type": "stream",
     "text": [
      "CC: conjunction, coordinating\n",
      "    & 'n and both but either et for less minus neither nor or plus so\n",
      "    therefore times v. versus vs. whether yet\n"
     ]
    }
   ],
   "source": [
    "# 만약 품사 태그(e.g. 'CC')에 대한 설명을 보고 싶다면\n",
    "nltk.help.upenn_tagset('CC')"
   ]
  },
  {
   "cell_type": "code",
   "execution_count": 55,
   "metadata": {},
   "outputs": [
    {
     "name": "stdout",
     "output_type": "stream",
     "text": [
      "['hello', 'everyone', 'good', 'see', 'let', 's', 'start', 'text', 'mining', 'class']\n"
     ]
    }
   ],
   "source": [
    "# 원하는 품사의 단어들만 추출하고 싶다면\n",
    "my_tags = ['NN', 'VB', 'JJ']\n",
    "my_words = [word for word, tag in nltk.pos_tag(tokens) if tag in my_tags]\n",
    "print(my_words)"
   ]
  },
  {
   "cell_type": "code",
   "execution_count": 56,
   "metadata": {},
   "outputs": [
    {
     "name": "stdout",
     "output_type": "stream",
     "text": [
      "['hello/NN', 'everyone/NN', 'it/PRP', 's/VBD', 'good/JJ', 'to/TO', 'see/VB', 'you/PRP', 'let/VB', 's/VB', 'start/VB', 'our/PRP$', 'text/NN', 'mining/NN', 'class/NN']\n"
     ]
    }
   ],
   "source": [
    "# 동음이의어의 구분을 위해 단어에 품사 정보를 추가해 구분하기\n",
    "# BOW 기반 문서 분류 시 성능 개선할 수 있음\n",
    "words_with_tag = ['/'.join(item) for item in nltk.pos_tag(tokens)]\n",
    "print(words_with_tag)"
   ]
  }
 ],
 "metadata": {
  "kernelspec": {
   "display_name": "Python 3.10.1 ('text_env': venv)",
   "language": "python",
   "name": "python3"
  },
  "language_info": {
   "codemirror_mode": {
    "name": "ipython",
    "version": 3
   },
   "file_extension": ".py",
   "mimetype": "text/x-python",
   "name": "python",
   "nbconvert_exporter": "python",
   "pygments_lexer": "ipython3",
   "version": "3.10.1"
  },
  "orig_nbformat": 4,
  "vscode": {
   "interpreter": {
    "hash": "c6ef82289f524ade9202bcea623c6cf4e2fcda903335a3d515b283ee953af075"
   }
  }
 },
 "nbformat": 4,
 "nbformat_minor": 2
}
